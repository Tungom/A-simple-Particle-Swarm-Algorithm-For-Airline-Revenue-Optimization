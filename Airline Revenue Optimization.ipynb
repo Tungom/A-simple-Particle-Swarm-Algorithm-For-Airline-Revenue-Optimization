{
 "cells": [
  {
   "cell_type": "code",
   "execution_count": 1,
   "metadata": {},
   "outputs": [],
   "source": [
    "#!/usr/bin/env python\n",
    "# ------------------------------------------------------------------------------------------------------%\n",
    "# Created by \"Chia E Tungom\" 11/15/2020                                                                 %\n",
    "#       Email:      chemago99@yahoo.com                                                                 %\n",
    "#       Github:     https://github.com/tungom                                                           %\n",
    "#-------------------------------------------------------------------------------------------------------%"
   ]
  },
  {
   "cell_type": "code",
   "execution_count": 213,
   "metadata": {},
   "outputs": [],
   "source": [
    "import random\n",
    "import math\n",
    "import numpy as np"
   ]
  },
  {
   "cell_type": "code",
   "execution_count": 222,
   "metadata": {},
   "outputs": [],
   "source": [
    "# Constraint Problems \n",
    "\n",
    "# define function\n",
    "def F1(x):\n",
    "    \n",
    "    \"\"\"where the bounds are [(0, 100), (0,150)] \n",
    "    Airline revenue management \n",
    "     \"\"\"\n",
    "    return 617*x[0] + 238*x[1]\n",
    "\n",
    "#define constraints\n",
    "def C1(x, n):\n",
    "    \"\"\" takes values and return tuple. (fitnees, [list of constraint values], number of constraints voilated)\n",
    "    x: position \n",
    "    n: total number of constraints\"\"\"\n",
    "    \n",
    "    c1 = 166 - (x[0] + x[1]) \n",
    "     \n",
    "    \n",
    "    cs = [c1]\n",
    "    \n",
    "    if n != len(cs):\n",
    "        print(\"number of constraints More OR Less\")\n",
    "    nv = 0\n",
    "    pen = 0\n",
    "    for i in cs:\n",
    "        if  i >= 0 :\n",
    "            nv += 1\n",
    "            \n",
    "    if nv > 0:\n",
    "        F = F1(x) + sum(cs)   # voilated fitness calculation\n",
    "    else:\n",
    "        F = F1(x)\n",
    "    return F, nv\n",
    "\n",
    "# second constraint technique\n",
    "def C2(x, n):\n",
    "    \"\"\" takes values and return tuple. (fitnees, [list of constraint values], number of constraints voilated)\n",
    "    x: position \n",
    "    n: total number of constraints\"\"\"\n",
    "    \n",
    "    #maxp = [100 for i in range(n)]\n",
    "    \n",
    "    c1 = 166 - (x[0] + x[1] )\n",
    "     \n",
    "    cs = [c1]\n",
    "    \n",
    "    if n != len(cs):\n",
    "        print(\"number of constraints More OR Less\")\n",
    "    nv = 0\n",
    "    for i in cs:\n",
    "        if  i < 0 :\n",
    "            nv += 1\n",
    "            \n",
    "    if nv > 0:\n",
    "        F = sum([i/50 for i in cs])   # voilated fitness calculation\n",
    "    else:\n",
    "        F = F1(x)\n",
    "    return F, nv\n",
    "\n",
    "def C3(x, n):\n",
    "    \"\"\" takes values and return tuple. (fitnees, [list of constraint values], number of constraints voilated)\n",
    "    x: position \n",
    "    n: total number of constraints\"\"\"\n",
    "    \n",
    "    #maxp = [100 for i in range(n)]\n",
    "    \n",
    "    c1 = 166 - (x[0] + x[1])\n",
    "    cs = [c1]\n",
    "    \n",
    "    if n != len(cs):\n",
    "        print(\"number of constraints More OR Less\")\n",
    "    nv = 0\n",
    "    pen = sum(cs)\n",
    "    for i in cs:\n",
    "        if  i < 0 :\n",
    "            # print(\"HERE \", i, x)\n",
    "            nv += 1\n",
    "            \n",
    "    if nv > 0:\n",
    "        # F = sum([i/50 for i in cs])   # voilated fitness calculation\n",
    "        F = F1(x)/(1+nv)\n",
    "    else:\n",
    "        F = F1(x)\n",
    "    return F, nv"
   ]
  },
  {
   "cell_type": "code",
   "execution_count": 223,
   "metadata": {},
   "outputs": [],
   "source": [
    "# Initializing position and Velocity\n",
    "\n",
    "def InitializeX(N, D, BDS):\n",
    "    \"\"\" N: population size (interger number)\n",
    "        D: dimension (interger number)\n",
    "        BDS: bounds (list with tuples e.g [(a,b),...,(c,d)]). List must be same length with D\"\"\"\n",
    "\n",
    "    return [[random.uniform(BDS[i][0], BDS[i][1]) for i in range(D)] for i in range(N)]\n",
    "\n",
    "def InitializeV(N, D, BDS):\n",
    "    \"\"\" N: population size (interger number)\n",
    "        D: dimension (interger number)\n",
    "        BDS: bounds (list with tuples e.g [(a,b),...,(c,d)]). List must be same length with D\"\"\"\n",
    "\n",
    "    return [[random.uniform(BDS[i][0], BDS[i][1]) for i in range(D)] for i in range(N)]"
   ]
  },
  {
   "cell_type": "code",
   "execution_count": 224,
   "metadata": {},
   "outputs": [],
   "source": [
    "def PGbest(function, nc, x, pbest, gbest):\n",
    "    \n",
    "    \"\"\" function: function to be optimized\n",
    "        nc: number of constraints\n",
    "        x: current position of swarm members\n",
    "        pbest: list of personal best positions [([position],(fitness, voilations)), ..., ([position],(fitness, voilations)) ]\n",
    "        gbest: position of best individual \"\"\"\n",
    "    \n",
    "    fx = [(i, function(i, nc)) for i in x]           #gives the position and fitness value [(position, (fitness, voilations) )]\n",
    "    Fis = 0  # flag for feasible solution\n",
    "    \n",
    "    for i in range(len(x)):\n",
    "        \n",
    "        if fx[i][1][1] == 0 and pbest[i][1][1] == 0:    # compare feasible solutions\n",
    "            Fis += 1\n",
    "            \n",
    "            if fx[i][1][0] > pbest[i][1][0]:\n",
    "                pbest[i] = fx[i]\n",
    "                \n",
    "            if pbest[i][1][0] > gbest[1][0]:\n",
    "                gbest = pbest[i]\n",
    "                \n",
    "        elif fx[i][1][1] == 0 and pbest[i][1][1] > 0:  # replace pbest if infeasible with new feasible solution\n",
    "            pbest[i] = fx[i]\n",
    "            \n",
    "            if Fis == 0 and pbest[i][1][0] > gbest[1][0]:\n",
    "                gbest = pbest[i]\n",
    "                \n",
    "        elif fx[i][1][1] > 0 and pbest[i][1][1] > 0: # compare two infeasible solutions \n",
    "            if fx[i][1][0] > pbest[i][1][0]:\n",
    "                pbest[i] = fx[i]\n",
    "                \n",
    "            if Fis == 0 and pbest[i][1][0] > gbest[1][0]:\n",
    "                gbest = pbest[i]\n",
    "    \n",
    "    return pbest, gbest"
   ]
  },
  {
   "cell_type": "code",
   "execution_count": 225,
   "metadata": {},
   "outputs": [],
   "source": [
    "def updateV(vel, x, pbest, gbest, probT, w, c1, c2):\n",
    "    \n",
    "    \"\"\"vel: A list of list with velocities of particles [[velocity],...,[velocity]] \n",
    "       x: current position of swarm members\n",
    "       pbest: list of personal best positions [([position],(fitness, voilations)), ..., ([position],(fitness, voilations)) ]\n",
    "       gbest: position of best individual \n",
    "       probT: turbulance probability\n",
    "       w: inertia weight in the range [0.3, 0.9]\n",
    "       c1 and c2: acceleration coefficients in the range [0, 4.0]\"\"\"\n",
    "    \n",
    "    v = []\n",
    "    \n",
    "    for i in range(len(x)):\n",
    "        v.append([])\n",
    "        tt = 0\n",
    "        for j in range(len(x[0])):\n",
    "            r1 = random.random()\n",
    "            r2 = random.random()\n",
    "            \n",
    "            # Turbulance\n",
    "            if probT > random.random():\n",
    "                tt +=1\n",
    "                v[i].append( round( (random.uniform(0.1, 0.6)*vel[i][j]) + \n",
    "                            (random.uniform(1.5, 3.5) * r1*(pbest[i][0][j] - x[i][j])) + \n",
    "                            (random.uniform(1.5, 3.5)* r2* (gbest[0][j] - x[i][j]))  + random.uniform(0,1) ) )\n",
    "            else:\n",
    "                v[i].append(  round( (random.uniform(0.1, 0.3)*vel[i][j]) + \n",
    "                            (random.uniform(0.5, 2.5) * r1*(pbest[i][0][j] - x[i][j])) + \n",
    "                            (random.uniform(0.5, 2.5)* r2* (gbest[0][j] - x[i][j])) ) )\n",
    "        #if tt > 0 :\n",
    "        #    print(tt, \": Turbulance recorded for Particle \", i)\n",
    "            \n",
    "    return v\n",
    "\n",
    "\n",
    "def updateX(x, vel, bound):\n",
    "    \"\"\"vel: A list of list with velocities of particles [[velocity],...,[velocity]] \n",
    "       x: current position of swarm members\n",
    "       bound: boundary constraints [(a,b),...,(c,d)]\"\"\"\n",
    "    NX = []\n",
    "    for i in range(len(x)):\n",
    "        NX.append([])\n",
    "        \n",
    "        for j in range(len(x[0])):\n",
    "            NX[i].append( round(x[i][j] + vel[i][j] ) )\n",
    "            #print(x)\n",
    "            if NX[i][j] < bound[j][0] or NX[i][j] > bound[j][1]:\n",
    "                NX[i][j] = round(random.uniform(bound[j][0],bound[j][1]) )\n",
    "            \n",
    "    return NX"
   ]
  },
  {
   "cell_type": "code",
   "execution_count": 236,
   "metadata": {},
   "outputs": [],
   "source": [
    "def CPSO(function, nc, dimension, bounds, population, runs):\n",
    "    \"\"\" funtion: function to be optimized\n",
    "        nc: number of constraints\n",
    "        dimension: dimension of problem\n",
    "        bounds: upper and lower bound for each dimension\n",
    "        population: number of particles in the swarm\n",
    "        runs: number of interations \"\"\"\n",
    "    \n",
    "    positions = InitializeX(population, dimension, bounds)\n",
    "    velocities = InitializeV(population, dimension, bounds)\n",
    "    \n",
    "    c1 = 1.5\n",
    "    c2 = 0.5\n",
    "    w = 0.6\n",
    "    \n",
    "    i = 0\n",
    "    \n",
    "    while i < runs : \n",
    "        # Turbulance Operator\n",
    "        temp =  i /runs\n",
    "        ProbT = (temp**1.7) - (2.0*temp) + 1 \n",
    "        #print(ProbTurb)\n",
    "    \n",
    "        if i == 0:\n",
    "            pbest = [(i,function(i, nc)) for i in positions]\n",
    "            pbest, gbest = PGbest(function, nc, positions, pbest, pbest[0])\n",
    "        \n",
    "        velocities = updateV(velocities, positions, pbest, gbest, ProbT, w, c1, c2)\n",
    "        positions = updateX(positions, velocities, bounds)\n",
    "        pbest, gbest = PGbest(function, nc, positions, pbest, gbest)\n",
    "        \n",
    "        if i%int(runs*0.05) == 0 :\n",
    "            print(\"Genaration: \", i, \" Fitness: \", gbest[1][0], \" Real Fitness: \", F1(gbest[0]),\n",
    "                  \" Voilated Constraints: \", gbest[1][1])\n",
    "        \n",
    "        i += 1\n",
    "        \n",
    "        #print(min ([function(i) for i in X]))\n",
    "        \n",
    "    return gbest"
   ]
  },
  {
   "cell_type": "code",
   "execution_count": 238,
   "metadata": {},
   "outputs": [
    {
     "name": "stdout",
     "output_type": "stream",
     "text": [
      "Genaration:  0  Fitness:  74764.40793952784  Real Fitness:  74764.40793952784  Voilated Constraints:  0\n",
      "Genaration:  2  Fitness:  74940  Real Fitness:  74940  Voilated Constraints:  0\n",
      "Genaration:  4  Fitness:  76791  Real Fitness:  76791  Voilated Constraints:  0\n",
      "Genaration:  6  Fitness:  76791  Real Fitness:  76791  Voilated Constraints:  0\n",
      "Genaration:  8  Fitness:  76791  Real Fitness:  76791  Voilated Constraints:  0\n",
      "Genaration:  10  Fitness:  77170  Real Fitness:  77170  Voilated Constraints:  0\n",
      "Genaration:  12  Fitness:  77170  Real Fitness:  77170  Voilated Constraints:  0\n",
      "Genaration:  14  Fitness:  77170  Real Fitness:  77170  Voilated Constraints:  0\n",
      "Genaration:  16  Fitness:  77170  Real Fitness:  77170  Voilated Constraints:  0\n",
      "Genaration:  18  Fitness:  77170  Real Fitness:  77170  Voilated Constraints:  0\n",
      "Genaration:  20  Fitness:  77170  Real Fitness:  77170  Voilated Constraints:  0\n",
      "Genaration:  22  Fitness:  77170  Real Fitness:  77170  Voilated Constraints:  0\n",
      "Genaration:  24  Fitness:  77170  Real Fitness:  77170  Voilated Constraints:  0\n",
      "Genaration:  26  Fitness:  77170  Real Fitness:  77170  Voilated Constraints:  0\n",
      "Genaration:  28  Fitness:  77170  Real Fitness:  77170  Voilated Constraints:  0\n",
      "Genaration:  30  Fitness:  77170  Real Fitness:  77170  Voilated Constraints:  0\n",
      "Genaration:  32  Fitness:  77170  Real Fitness:  77170  Voilated Constraints:  0\n",
      "Genaration:  34  Fitness:  77408  Real Fitness:  77408  Voilated Constraints:  0\n",
      "Genaration:  36  Fitness:  77408  Real Fitness:  77408  Voilated Constraints:  0\n",
      "Genaration:  38  Fitness:  77408  Real Fitness:  77408  Voilated Constraints:  0\n",
      "Genaration:  40  Fitness:  77408  Real Fitness:  77408  Voilated Constraints:  0\n",
      "Genaration:  42  Fitness:  77408  Real Fitness:  77408  Voilated Constraints:  0\n",
      "Genaration:  44  Fitness:  77408  Real Fitness:  77408  Voilated Constraints:  0\n",
      "Genaration:  46  Fitness:  77408  Real Fitness:  77408  Voilated Constraints:  0\n",
      "Genaration:  48  Fitness:  77408  Real Fitness:  77408  Voilated Constraints:  0\n"
     ]
    }
   ],
   "source": [
    "nc = 1\n",
    "D = 2\n",
    "bounds = [(0,100),(0,150)]\n",
    "pop = 50\n",
    "Iter = 50\n",
    "\n",
    "OR = CPSO(C3, nc, D, bounds, pop, Iter)"
   ]
  },
  {
   "cell_type": "code",
   "execution_count": 161,
   "metadata": {},
   "outputs": [
    {
     "data": {
      "text/plain": [
       "([100, 66], (77408, 0))"
      ]
     },
     "execution_count": 161,
     "metadata": {},
     "output_type": "execute_result"
    }
   ],
   "source": [
    "OR"
   ]
  },
  {
   "cell_type": "code",
   "execution_count": 162,
   "metadata": {},
   "outputs": [
    {
     "data": {
      "text/plain": [
       "77408"
      ]
     },
     "execution_count": 162,
     "metadata": {},
     "output_type": "execute_result"
    }
   ],
   "source": [
    "F1(OR[0])"
   ]
  },
  {
   "cell_type": "code",
   "execution_count": 163,
   "metadata": {},
   "outputs": [
    {
     "data": {
      "text/plain": [
       "0"
      ]
     },
     "execution_count": 163,
     "metadata": {},
     "output_type": "execute_result"
    }
   ],
   "source": [
    "x = OR[0]\n",
    "c1 = 166 - (x[0] + x[1])\n",
    "c1"
   ]
  },
  {
   "cell_type": "code",
   "execution_count": null,
   "metadata": {},
   "outputs": [],
   "source": []
  }
 ],
 "metadata": {
  "kernelspec": {
   "display_name": "Python [default]",
   "language": "python",
   "name": "python3"
  },
  "language_info": {
   "codemirror_mode": {
    "name": "ipython",
    "version": 3
   },
   "file_extension": ".py",
   "mimetype": "text/x-python",
   "name": "python",
   "nbconvert_exporter": "python",
   "pygments_lexer": "ipython3",
   "version": "3.5.6"
  }
 },
 "nbformat": 4,
 "nbformat_minor": 2
}
