{
  "nbformat": 4,
  "nbformat_minor": 0,
  "metadata": {
    "colab": {
      "provenance": [],
      "authorship_tag": "ABX9TyOqNY7aqHOb7jjf9j2ChXIo",
      "include_colab_link": true
    },
    "kernelspec": {
      "name": "python3",
      "display_name": "Python 3"
    },
    "language_info": {
      "name": "python"
    }
  },
  "cells": [
    {
      "cell_type": "markdown",
      "metadata": {
        "id": "view-in-github",
        "colab_type": "text"
      },
      "source": [
        "<a href=\"https://colab.research.google.com/github/Tungom/A-simple-Particle-Swarm-Algorithm-For-Airline-Revenue-Optimization/blob/main/YahooFinanceDigitalAssetDataDownload.ipynb\" target=\"_parent\"><img src=\"https://colab.research.google.com/assets/colab-badge.svg\" alt=\"Open In Colab\"/></a>"
      ]
    },
    {
      "cell_type": "markdown",
      "source": [
        "# Downloading Daily Digital Asset Data on Yahoo Finance\n",
        "\n",
        "In this Notebook, we show how we can obatain daily crypto Data from Yahoo Finance\n",
        "\n",
        "- We use a the Yahoo finance python package to access the data \n",
        "- The downlaod period selected for each coin is from Jan 2010 to Jan 2023 (Daily for available data)\n",
        "- The following coins/USD price pair data is used shown below and \n",
        "- We process the dataset coin by coin and concatenate them \n",
        "    - Coins`[\"BTC-USD\", \"ETH-USD\", \"CAD-USD\", \"ETH-USD\", \"XRP-USD\", \"XMR-USD\", \"MATIC-USD\", \"SOL-USD\", \"AAVE-USD\", \"APE-USD\", \"AXS-USD\", \"DOGE-USD\", \"DOT-USD\", \"GRT-USD\", \"LTC-USD\",\"MANA-USD\", \"SAND-USD\", \"SHIB-USD\", \"UNI-USD\", \"VET-USD\"]`\n",
        "\n",
        "- Symbols:\n",
        "    - `symbols = ['BTC-USD','ETH-USD','BCH-USD','LTC-USD','BNB-USD','BAT-USD','XLM-USD','DOGE-USD','DOGE-USD','COMP-USD','ALGO-USD','OMG-USD']`"
      ],
      "metadata": {
        "id": "q1-4Z9GVoHUx"
      }
    },
    {
      "cell_type": "code",
      "source": [
        "import pandas as pd\n",
        "import numpy as np\n",
        "import yfinance as yf"
      ],
      "metadata": {
        "id": "Suy3px6rxp6k"
      },
      "execution_count": 10,
      "outputs": []
    },
    {
      "cell_type": "code",
      "source": [
        "start_date = \"2010-01-01\"\n",
        "end_date = \"2023-01-01\"\n",
        "interval = \"1d\"\n",
        "asset = \"BTC-USD\"\n",
        "\n",
        "BTC_data = yf.download(asset, start = start_date, end = end_date, interval = interval).reset_index()"
      ],
      "metadata": {
        "colab": {
          "base_uri": "https://localhost:8080/"
        },
        "id": "7-4wO1XUyPyT",
        "outputId": "782c8894-9c6d-4d02-f1ce-3e1425565308"
      },
      "execution_count": 13,
      "outputs": [
        {
          "output_type": "stream",
          "name": "stdout",
          "text": [
            "\r[*********************100%***********************]  1 of 1 completed\n"
          ]
        }
      ]
    },
    {
      "cell_type": "code",
      "source": [
        "BTC_data.to_csv(\"BTC_data.csv\", index = False)"
      ],
      "metadata": {
        "id": "5catEKzszuIX"
      },
      "execution_count": 15,
      "outputs": []
    },
    {
      "cell_type": "markdown",
      "source": [
        "# New Section"
      ],
      "metadata": {
        "id": "qILXaECG0E5E"
      }
    }
  ]
}